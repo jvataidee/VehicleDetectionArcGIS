{
 "cells": [
  {
   "cell_type": "markdown",
   "metadata": {},
   "source": [
    "## Calibragem"
   ]
  },
  {
   "cell_type": "code",
   "execution_count": 1,
   "metadata": {},
   "outputs": [],
   "source": [
    "import numpy as np\n",
    "import cv2"
   ]
  },
  {
   "cell_type": "code",
   "execution_count": 5,
   "metadata": {},
   "outputs": [],
   "source": [
    "cap = cv2.VideoCapture(r'C:\\Users\\jv_at\\tcc\\Arcgis\\lev_12h_1.MOV')\n",
    "ret,old = cap.read()\n",
    "old_gray = cv2.cvtColor(old, cv2.COLOR_BGR2GRAY)"
   ]
  },
  {
   "cell_type": "code",
   "execution_count": 6,
   "metadata": {},
   "outputs": [],
   "source": [
    "fourcc = cv2.VideoWriter_fourcc(*'H264') # Cria o objeto para gravar vídeo\n",
    "out = cv2.VideoWriter(r'C:\\Users\\jv_at\\tcc\\Arcgis\\lev_12h_1_estabilizado.MOV', fourcc, 30.0, (old.shape[1] , old.shape[0]))\n",
    "\n",
    "height, width = old.shape[0], old.shape[1]"
   ]
  },
  {
   "cell_type": "code",
   "execution_count": null,
   "metadata": {},
   "outputs": [],
   "source": [
    "count = 0\n",
    "\n",
    "while (cap.isOpened()):\n",
    "    count += 1\n",
    "    ret,frame = cap.read() \n",
    "        \n",
    "    if ret == True:\n",
    "\n",
    "        atual = cv2.cvtColor(frame, cv2.COLOR_BGR2GRAY)\n",
    "    \n",
    "        pontos_chave_old = cv2.goodFeaturesToTrack(old_gray, 100, 0.0001, 10)\n",
    "    \n",
    "        pontos_chave_old_b = np.int0(pontos_chave_old)\n",
    "        copy = frame.copy()\n",
    "        \n",
    "        for i in pontos_chave_old_b:\n",
    "            x,y = i.ravel()\n",
    "            cv2.circle(copy,(x,y),3,(0,255,255),-1)\n",
    "    \n",
    "        pontos_chave_atual, status, _ = cv2.calcOpticalFlowPyrLK(old_gray, atual, pontos_chave_old, np.array([]))\n",
    "    \n",
    "        pontos_chave_old, pontos_chave_atual = map(lambda pontos_chave_old_b: pontos_chave_old_b[status.ravel().astype(bool)], [pontos_chave_old, pontos_chave_atual])\n",
    "    \n",
    "    \n",
    "        transform,_ = cv2.estimateAffinePartial2D(pontos_chave_old, pontos_chave_atual, True)\n",
    "    \n",
    "    \n",
    "    \n",
    "        height, width = frame.shape[0], frame.shape[1]\n",
    "        \n",
    "        last_transform = np.identity(3)\n",
    "    \n",
    "        transform = transform.dot(last_transform)\n",
    "    \n",
    "        transformado = cv2.warpAffine(frame, transform, (width, height))\n",
    "    \n",
    "    \n",
    "        inverse_transform = cv2.invertAffineTransform(transform[:2])\n",
    "    \n",
    "        estabilizado = cv2.warpAffine(frame, inverse_transform, (width, height))\n",
    "        out.write(estabilizado)\n",
    "        last_transform = transform\n",
    "    \n",
    "        #final1 = cv2.hconcat([frame,transformado])\n",
    "        #final2 = cv2.hconcat([copy, estabilizado])\n",
    "        #final = cv2.vconcat([final1,final2])\n",
    "        #cv2.imshow('resultado',final2)\n",
    "\n",
    "        if cv2.waitKey(1) & 0xFF == ord('q'):\n",
    "            out.write(estabilizado)  \n",
    "            break\n",
    "        \n",
    "    else:\n",
    "        break\n",
    "        \n",
    "cap.release()\n",
    "out.release()"
   ]
  },
  {
   "cell_type": "code",
   "execution_count": null,
   "metadata": {},
   "outputs": [],
   "source": []
  }
 ],
 "metadata": {
  "kernelspec": {
   "display_name": "Python 3",
   "language": "python",
   "name": "python3"
  },
  "language_info": {
   "codemirror_mode": {
    "name": "ipython",
    "version": 3
   },
   "file_extension": ".py",
   "mimetype": "text/x-python",
   "name": "python",
   "nbconvert_exporter": "python",
   "pygments_lexer": "ipython3",
   "version": "3.7.9"
  }
 },
 "nbformat": 4,
 "nbformat_minor": 5
}
