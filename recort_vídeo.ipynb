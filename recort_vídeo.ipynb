{
 "cells": [
  {
   "cell_type": "code",
   "execution_count": 1,
   "metadata": {
    "scrolled": true
   },
   "outputs": [],
   "source": [
    "import cv2\n",
    "import matplotlib.pyplot as plt\n",
    "import numpy as np\n",
    "import imutils"
   ]
  },
  {
   "cell_type": "raw",
   "metadata": {},
   "source": [
    "A1 - [70:300, 800:950] Raio = 12\n",
    "A2 - [70:300, 950:1120] Raio = 12 \n",
    "B1 - [700:900, 800:1000] Raio = 12\n",
    "B2 - [700:900, 950:1200] Raio = 12 \n",
    "C1 - [600:800, 600:800] Raio = 10 \n",
    "C2 - [350:600, 600:800]  Raio = 10 "
   ]
  },
  {
   "cell_type": "code",
   "execution_count": 17,
   "metadata": {},
   "outputs": [],
   "source": [
    "cap = cv2.VideoCapture('lev_7h_1_estabilizado.mp4')\n",
    "\n",
    "ret1, img = cap.read()\n",
    "img = imutils.rotate(img, 12)\n",
    "img = img[70:300, 950:1120]\n",
    "height, width, channels = img.shape"
   ]
  },
  {
   "cell_type": "code",
   "execution_count": 18,
   "metadata": {},
   "outputs": [],
   "source": [
    "fourcc = cv2.VideoWriter_fourcc(*'H264')\n",
    "out = cv2.VideoWriter('lev_7h_1_A2_estabilizado.mp4',fourcc, 30.0, (width,height))"
   ]
  },
  {
   "cell_type": "code",
   "execution_count": null,
   "metadata": {},
   "outputs": [],
   "source": [
    "if (cap.isOpened() == False):\n",
    "    print(\"Error opening video stream or file\")\n",
    "\n",
    "\n",
    "while(cap.isOpened()):   \n",
    "    ret, frame = cap.read()\n",
    "    if ret == True:  \n",
    "        \n",
    "        frame = imutils.rotate(frame, 12)\n",
    "        frame = frame[70:300, 950:1120]\n",
    "        \n",
    "        out.write(frame)        \n",
    "        cv2.imshow('Video Capture', frame)\n",
    "        \n",
    "        if cv2.waitKey(1) & 0xFF == ord('q'):\n",
    "            out.write(frame)  \n",
    "            break\n",
    "    else:\n",
    "        break\n",
    "        \n",
    "cap.release()\n",
    "out.release()\n",
    "cv2.destroyAllWindows()"
   ]
  },
  {
   "cell_type": "code",
   "execution_count": null,
   "metadata": {},
   "outputs": [],
   "source": []
  }
 ],
 "metadata": {
  "esriNotebookRuntime": {
   "notebookRuntimeName": "ArcGIS Notebook Python 3 Advanced with GPU support",
   "notebookRuntimeVersion": "4.0"
  },
  "kernelspec": {
   "display_name": "Python 3",
   "language": "python",
   "name": "python3"
  },
  "language_info": {
   "codemirror_mode": {
    "name": "ipython",
    "version": 3
   },
   "file_extension": ".py",
   "mimetype": "text/x-python",
   "name": "python",
   "nbconvert_exporter": "python",
   "pygments_lexer": "ipython3",
   "version": "3.7.9"
  }
 },
 "nbformat": 4,
 "nbformat_minor": 2
}
